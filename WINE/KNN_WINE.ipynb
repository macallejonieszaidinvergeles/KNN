{
  "nbformat": 4,
  "nbformat_minor": 0,
  "metadata": {
    "colab": {
      "name": "KNN WINE.ipynb",
      "provenance": [],
      "collapsed_sections": []
    },
    "kernelspec": {
      "name": "python3",
      "display_name": "Python 3"
    },
    "language_info": {
      "name": "python"
    }
  },
  "cells": [
    {
      "cell_type": "markdown",
      "source": [
        "**Importación de librerías necesarias**\n"
      ],
      "metadata": {
        "id": "cvL_MukIZLR-"
      }
    },
    {
      "cell_type": "code",
      "source": [
        "from google.colab import drive\n",
        "import pandas as pd\n",
        "import matplotlib.pyplot as plt\n",
        "import seaborn as sns; \n",
        "from sklearn.model_selection import train_test_split\n",
        "from sklearn.neighbors import KNeighborsClassifier\n",
        "from sklearn.neighbors import RadiusNeighborsClassifier\n",
        "from sklearn.metrics import accuracy_score\n",
        "from sklearn.metrics import ConfusionMatrixDisplay\n",
        "from sklearn.metrics import confusion_matrix, ConfusionMatrixDisplay\n",
        "\n",
        "from sklearn.model_selection import KFold\n",
        "\n",
        "from sklearn.model_selection import cross_val_score\n",
        "\n",
        "from sklearn import datasets, metrics\n",
        "\n"
      ],
      "metadata": {
        "id": "Ee7TZTUtZOA1"
      },
      "execution_count": null,
      "outputs": []
    },
    {
      "cell_type": "markdown",
      "source": [
        "**Preproceso**"
      ],
      "metadata": {
        "id": "nDrRDFCiaDi8"
      }
    },
    {
      "cell_type": "markdown",
      "source": [
        "Montar drive para la carga de datos"
      ],
      "metadata": {
        "id": "PH1ZdddqZojc"
      }
    },
    {
      "cell_type": "code",
      "execution_count": null,
      "metadata": {
        "id": "gH1lGiEk9Shm",
        "colab": {
          "base_uri": "https://localhost:8080/"
        },
        "outputId": "94c9cd23-a32c-403a-8fde-b7f5f8551851"
      },
      "outputs": [
        {
          "output_type": "stream",
          "name": "stdout",
          "text": [
            "Mounted at /content/drive\n"
          ]
        }
      ],
      "source": [
        "drive.mount('/content/drive')\n"
      ]
    },
    {
      "cell_type": "markdown",
      "source": [
        "Importación de los datos del dataset"
      ],
      "metadata": {
        "id": "5fRT8P8QaNQE"
      }
    },
    {
      "cell_type": "code",
      "source": [
        "df = pd.read_csv(\"/content/drive/MyDrive/WineQT.csv\")"
      ],
      "metadata": {
        "id": "_xf8LQpZaQBT"
      },
      "execution_count": null,
      "outputs": []
    },
    {
      "cell_type": "markdown",
      "source": [
        "Mostrar las primeras y últimas filas del dataframe importado\n"
      ],
      "metadata": {
        "id": "N0-GaOITaUqs"
      }
    },
    {
      "cell_type": "code",
      "source": [
        "df"
      ],
      "metadata": {
        "id": "ugMyfyb8-jXl",
        "colab": {
          "base_uri": "https://localhost:8080/",
          "height": 485
        },
        "outputId": "93cb0f42-7ee9-4b82-e5e2-cdc18c135801"
      },
      "execution_count": null,
      "outputs": [
        {
          "output_type": "execute_result",
          "data": {
            "text/html": [
              "\n",
              "  <div id=\"df-0f143447-9a54-4139-a2b5-0b121cffe3e9\">\n",
              "    <div class=\"colab-df-container\">\n",
              "      <div>\n",
              "<style scoped>\n",
              "    .dataframe tbody tr th:only-of-type {\n",
              "        vertical-align: middle;\n",
              "    }\n",
              "\n",
              "    .dataframe tbody tr th {\n",
              "        vertical-align: top;\n",
              "    }\n",
              "\n",
              "    .dataframe thead th {\n",
              "        text-align: right;\n",
              "    }\n",
              "</style>\n",
              "<table border=\"1\" class=\"dataframe\">\n",
              "  <thead>\n",
              "    <tr style=\"text-align: right;\">\n",
              "      <th></th>\n",
              "      <th>fixed acidity</th>\n",
              "      <th>volatile acidity</th>\n",
              "      <th>citric acid</th>\n",
              "      <th>residual sugar</th>\n",
              "      <th>chlorides</th>\n",
              "      <th>free sulfur dioxide</th>\n",
              "      <th>total sulfur dioxide</th>\n",
              "      <th>density</th>\n",
              "      <th>pH</th>\n",
              "      <th>sulphates</th>\n",
              "      <th>alcohol</th>\n",
              "      <th>quality</th>\n",
              "      <th>Id</th>\n",
              "    </tr>\n",
              "  </thead>\n",
              "  <tbody>\n",
              "    <tr>\n",
              "      <th>0</th>\n",
              "      <td>7.4</td>\n",
              "      <td>0.700</td>\n",
              "      <td>0.00</td>\n",
              "      <td>1.9</td>\n",
              "      <td>0.076</td>\n",
              "      <td>11.0</td>\n",
              "      <td>34.0</td>\n",
              "      <td>0.99780</td>\n",
              "      <td>3.51</td>\n",
              "      <td>0.56</td>\n",
              "      <td>9.4</td>\n",
              "      <td>5</td>\n",
              "      <td>0</td>\n",
              "    </tr>\n",
              "    <tr>\n",
              "      <th>1</th>\n",
              "      <td>7.8</td>\n",
              "      <td>0.880</td>\n",
              "      <td>0.00</td>\n",
              "      <td>2.6</td>\n",
              "      <td>0.098</td>\n",
              "      <td>25.0</td>\n",
              "      <td>67.0</td>\n",
              "      <td>0.99680</td>\n",
              "      <td>3.20</td>\n",
              "      <td>0.68</td>\n",
              "      <td>9.8</td>\n",
              "      <td>5</td>\n",
              "      <td>1</td>\n",
              "    </tr>\n",
              "    <tr>\n",
              "      <th>2</th>\n",
              "      <td>7.8</td>\n",
              "      <td>0.760</td>\n",
              "      <td>0.04</td>\n",
              "      <td>2.3</td>\n",
              "      <td>0.092</td>\n",
              "      <td>15.0</td>\n",
              "      <td>54.0</td>\n",
              "      <td>0.99700</td>\n",
              "      <td>3.26</td>\n",
              "      <td>0.65</td>\n",
              "      <td>9.8</td>\n",
              "      <td>5</td>\n",
              "      <td>2</td>\n",
              "    </tr>\n",
              "    <tr>\n",
              "      <th>3</th>\n",
              "      <td>11.2</td>\n",
              "      <td>0.280</td>\n",
              "      <td>0.56</td>\n",
              "      <td>1.9</td>\n",
              "      <td>0.075</td>\n",
              "      <td>17.0</td>\n",
              "      <td>60.0</td>\n",
              "      <td>0.99800</td>\n",
              "      <td>3.16</td>\n",
              "      <td>0.58</td>\n",
              "      <td>9.8</td>\n",
              "      <td>6</td>\n",
              "      <td>3</td>\n",
              "    </tr>\n",
              "    <tr>\n",
              "      <th>4</th>\n",
              "      <td>7.4</td>\n",
              "      <td>0.700</td>\n",
              "      <td>0.00</td>\n",
              "      <td>1.9</td>\n",
              "      <td>0.076</td>\n",
              "      <td>11.0</td>\n",
              "      <td>34.0</td>\n",
              "      <td>0.99780</td>\n",
              "      <td>3.51</td>\n",
              "      <td>0.56</td>\n",
              "      <td>9.4</td>\n",
              "      <td>5</td>\n",
              "      <td>4</td>\n",
              "    </tr>\n",
              "    <tr>\n",
              "      <th>...</th>\n",
              "      <td>...</td>\n",
              "      <td>...</td>\n",
              "      <td>...</td>\n",
              "      <td>...</td>\n",
              "      <td>...</td>\n",
              "      <td>...</td>\n",
              "      <td>...</td>\n",
              "      <td>...</td>\n",
              "      <td>...</td>\n",
              "      <td>...</td>\n",
              "      <td>...</td>\n",
              "      <td>...</td>\n",
              "      <td>...</td>\n",
              "    </tr>\n",
              "    <tr>\n",
              "      <th>1138</th>\n",
              "      <td>6.3</td>\n",
              "      <td>0.510</td>\n",
              "      <td>0.13</td>\n",
              "      <td>2.3</td>\n",
              "      <td>0.076</td>\n",
              "      <td>29.0</td>\n",
              "      <td>40.0</td>\n",
              "      <td>0.99574</td>\n",
              "      <td>3.42</td>\n",
              "      <td>0.75</td>\n",
              "      <td>11.0</td>\n",
              "      <td>6</td>\n",
              "      <td>1592</td>\n",
              "    </tr>\n",
              "    <tr>\n",
              "      <th>1139</th>\n",
              "      <td>6.8</td>\n",
              "      <td>0.620</td>\n",
              "      <td>0.08</td>\n",
              "      <td>1.9</td>\n",
              "      <td>0.068</td>\n",
              "      <td>28.0</td>\n",
              "      <td>38.0</td>\n",
              "      <td>0.99651</td>\n",
              "      <td>3.42</td>\n",
              "      <td>0.82</td>\n",
              "      <td>9.5</td>\n",
              "      <td>6</td>\n",
              "      <td>1593</td>\n",
              "    </tr>\n",
              "    <tr>\n",
              "      <th>1140</th>\n",
              "      <td>6.2</td>\n",
              "      <td>0.600</td>\n",
              "      <td>0.08</td>\n",
              "      <td>2.0</td>\n",
              "      <td>0.090</td>\n",
              "      <td>32.0</td>\n",
              "      <td>44.0</td>\n",
              "      <td>0.99490</td>\n",
              "      <td>3.45</td>\n",
              "      <td>0.58</td>\n",
              "      <td>10.5</td>\n",
              "      <td>5</td>\n",
              "      <td>1594</td>\n",
              "    </tr>\n",
              "    <tr>\n",
              "      <th>1141</th>\n",
              "      <td>5.9</td>\n",
              "      <td>0.550</td>\n",
              "      <td>0.10</td>\n",
              "      <td>2.2</td>\n",
              "      <td>0.062</td>\n",
              "      <td>39.0</td>\n",
              "      <td>51.0</td>\n",
              "      <td>0.99512</td>\n",
              "      <td>3.52</td>\n",
              "      <td>0.76</td>\n",
              "      <td>11.2</td>\n",
              "      <td>6</td>\n",
              "      <td>1595</td>\n",
              "    </tr>\n",
              "    <tr>\n",
              "      <th>1142</th>\n",
              "      <td>5.9</td>\n",
              "      <td>0.645</td>\n",
              "      <td>0.12</td>\n",
              "      <td>2.0</td>\n",
              "      <td>0.075</td>\n",
              "      <td>32.0</td>\n",
              "      <td>44.0</td>\n",
              "      <td>0.99547</td>\n",
              "      <td>3.57</td>\n",
              "      <td>0.71</td>\n",
              "      <td>10.2</td>\n",
              "      <td>5</td>\n",
              "      <td>1597</td>\n",
              "    </tr>\n",
              "  </tbody>\n",
              "</table>\n",
              "<p>1143 rows × 13 columns</p>\n",
              "</div>\n",
              "      <button class=\"colab-df-convert\" onclick=\"convertToInteractive('df-0f143447-9a54-4139-a2b5-0b121cffe3e9')\"\n",
              "              title=\"Convert this dataframe to an interactive table.\"\n",
              "              style=\"display:none;\">\n",
              "        \n",
              "  <svg xmlns=\"http://www.w3.org/2000/svg\" height=\"24px\"viewBox=\"0 0 24 24\"\n",
              "       width=\"24px\">\n",
              "    <path d=\"M0 0h24v24H0V0z\" fill=\"none\"/>\n",
              "    <path d=\"M18.56 5.44l.94 2.06.94-2.06 2.06-.94-2.06-.94-.94-2.06-.94 2.06-2.06.94zm-11 1L8.5 8.5l.94-2.06 2.06-.94-2.06-.94L8.5 2.5l-.94 2.06-2.06.94zm10 10l.94 2.06.94-2.06 2.06-.94-2.06-.94-.94-2.06-.94 2.06-2.06.94z\"/><path d=\"M17.41 7.96l-1.37-1.37c-.4-.4-.92-.59-1.43-.59-.52 0-1.04.2-1.43.59L10.3 9.45l-7.72 7.72c-.78.78-.78 2.05 0 2.83L4 21.41c.39.39.9.59 1.41.59.51 0 1.02-.2 1.41-.59l7.78-7.78 2.81-2.81c.8-.78.8-2.07 0-2.86zM5.41 20L4 18.59l7.72-7.72 1.47 1.35L5.41 20z\"/>\n",
              "  </svg>\n",
              "      </button>\n",
              "      \n",
              "  <style>\n",
              "    .colab-df-container {\n",
              "      display:flex;\n",
              "      flex-wrap:wrap;\n",
              "      gap: 12px;\n",
              "    }\n",
              "\n",
              "    .colab-df-convert {\n",
              "      background-color: #E8F0FE;\n",
              "      border: none;\n",
              "      border-radius: 50%;\n",
              "      cursor: pointer;\n",
              "      display: none;\n",
              "      fill: #1967D2;\n",
              "      height: 32px;\n",
              "      padding: 0 0 0 0;\n",
              "      width: 32px;\n",
              "    }\n",
              "\n",
              "    .colab-df-convert:hover {\n",
              "      background-color: #E2EBFA;\n",
              "      box-shadow: 0px 1px 2px rgba(60, 64, 67, 0.3), 0px 1px 3px 1px rgba(60, 64, 67, 0.15);\n",
              "      fill: #174EA6;\n",
              "    }\n",
              "\n",
              "    [theme=dark] .colab-df-convert {\n",
              "      background-color: #3B4455;\n",
              "      fill: #D2E3FC;\n",
              "    }\n",
              "\n",
              "    [theme=dark] .colab-df-convert:hover {\n",
              "      background-color: #434B5C;\n",
              "      box-shadow: 0px 1px 3px 1px rgba(0, 0, 0, 0.15);\n",
              "      filter: drop-shadow(0px 1px 2px rgba(0, 0, 0, 0.3));\n",
              "      fill: #FFFFFF;\n",
              "    }\n",
              "  </style>\n",
              "\n",
              "      <script>\n",
              "        const buttonEl =\n",
              "          document.querySelector('#df-0f143447-9a54-4139-a2b5-0b121cffe3e9 button.colab-df-convert');\n",
              "        buttonEl.style.display =\n",
              "          google.colab.kernel.accessAllowed ? 'block' : 'none';\n",
              "\n",
              "        async function convertToInteractive(key) {\n",
              "          const element = document.querySelector('#df-0f143447-9a54-4139-a2b5-0b121cffe3e9');\n",
              "          const dataTable =\n",
              "            await google.colab.kernel.invokeFunction('convertToInteractive',\n",
              "                                                     [key], {});\n",
              "          if (!dataTable) return;\n",
              "\n",
              "          const docLinkHtml = 'Like what you see? Visit the ' +\n",
              "            '<a target=\"_blank\" href=https://colab.research.google.com/notebooks/data_table.ipynb>data table notebook</a>'\n",
              "            + ' to learn more about interactive tables.';\n",
              "          element.innerHTML = '';\n",
              "          dataTable['output_type'] = 'display_data';\n",
              "          await google.colab.output.renderOutput(dataTable, element);\n",
              "          const docLink = document.createElement('div');\n",
              "          docLink.innerHTML = docLinkHtml;\n",
              "          element.appendChild(docLink);\n",
              "        }\n",
              "      </script>\n",
              "    </div>\n",
              "  </div>\n",
              "  "
            ],
            "text/plain": [
              "      fixed acidity  volatile acidity  citric acid  ...  alcohol  quality    Id\n",
              "0               7.4             0.700         0.00  ...      9.4        5     0\n",
              "1               7.8             0.880         0.00  ...      9.8        5     1\n",
              "2               7.8             0.760         0.04  ...      9.8        5     2\n",
              "3              11.2             0.280         0.56  ...      9.8        6     3\n",
              "4               7.4             0.700         0.00  ...      9.4        5     4\n",
              "...             ...               ...          ...  ...      ...      ...   ...\n",
              "1138            6.3             0.510         0.13  ...     11.0        6  1592\n",
              "1139            6.8             0.620         0.08  ...      9.5        6  1593\n",
              "1140            6.2             0.600         0.08  ...     10.5        5  1594\n",
              "1141            5.9             0.550         0.10  ...     11.2        6  1595\n",
              "1142            5.9             0.645         0.12  ...     10.2        5  1597\n",
              "\n",
              "[1143 rows x 13 columns]"
            ]
          },
          "metadata": {},
          "execution_count": 5
        }
      ]
    },
    {
      "cell_type": "markdown",
      "source": [
        "Tipos de datos del df"
      ],
      "metadata": {
        "id": "tT0-76d7eXdx"
      }
    },
    {
      "cell_type": "code",
      "source": [
        "df.dtypes"
      ],
      "metadata": {
        "colab": {
          "base_uri": "https://localhost:8080/"
        },
        "id": "DvgNKBb9eT9Q",
        "outputId": "31ee77ca-0258-41e6-decc-f7b986728b77"
      },
      "execution_count": null,
      "outputs": [
        {
          "output_type": "execute_result",
          "data": {
            "text/plain": [
              "fixed acidity           float64\n",
              "volatile acidity        float64\n",
              "citric acid             float64\n",
              "residual sugar          float64\n",
              "chlorides               float64\n",
              "free sulfur dioxide     float64\n",
              "total sulfur dioxide    float64\n",
              "density                 float64\n",
              "pH                      float64\n",
              "sulphates               float64\n",
              "alcohol                 float64\n",
              "quality                   int64\n",
              "Id                        int64\n",
              "dtype: object"
            ]
          },
          "metadata": {},
          "execution_count": 6
        }
      ]
    },
    {
      "cell_type": "markdown",
      "source": [
        "Mostrar parámetros estadísticos de los datos (media, desviación típica, cuartiles, etc.)"
      ],
      "metadata": {
        "id": "n5TRnhwpaugt"
      }
    },
    {
      "cell_type": "code",
      "source": [
        "df.describe()"
      ],
      "metadata": {
        "id": "l-PzCXnG_vsD",
        "colab": {
          "base_uri": "https://localhost:8080/",
          "height": 399
        },
        "outputId": "a5159e30-f6ff-4247-8132-1cbf3d34b8df"
      },
      "execution_count": null,
      "outputs": [
        {
          "output_type": "execute_result",
          "data": {
            "text/html": [
              "\n",
              "  <div id=\"df-a24f9362-ae75-4301-b2c6-c893c4289513\">\n",
              "    <div class=\"colab-df-container\">\n",
              "      <div>\n",
              "<style scoped>\n",
              "    .dataframe tbody tr th:only-of-type {\n",
              "        vertical-align: middle;\n",
              "    }\n",
              "\n",
              "    .dataframe tbody tr th {\n",
              "        vertical-align: top;\n",
              "    }\n",
              "\n",
              "    .dataframe thead th {\n",
              "        text-align: right;\n",
              "    }\n",
              "</style>\n",
              "<table border=\"1\" class=\"dataframe\">\n",
              "  <thead>\n",
              "    <tr style=\"text-align: right;\">\n",
              "      <th></th>\n",
              "      <th>fixed acidity</th>\n",
              "      <th>volatile acidity</th>\n",
              "      <th>citric acid</th>\n",
              "      <th>residual sugar</th>\n",
              "      <th>chlorides</th>\n",
              "      <th>free sulfur dioxide</th>\n",
              "      <th>total sulfur dioxide</th>\n",
              "      <th>density</th>\n",
              "      <th>pH</th>\n",
              "      <th>sulphates</th>\n",
              "      <th>alcohol</th>\n",
              "      <th>quality</th>\n",
              "      <th>Id</th>\n",
              "    </tr>\n",
              "  </thead>\n",
              "  <tbody>\n",
              "    <tr>\n",
              "      <th>count</th>\n",
              "      <td>1143.000000</td>\n",
              "      <td>1143.000000</td>\n",
              "      <td>1143.000000</td>\n",
              "      <td>1143.000000</td>\n",
              "      <td>1143.000000</td>\n",
              "      <td>1143.000000</td>\n",
              "      <td>1143.000000</td>\n",
              "      <td>1143.000000</td>\n",
              "      <td>1143.000000</td>\n",
              "      <td>1143.000000</td>\n",
              "      <td>1143.000000</td>\n",
              "      <td>1143.000000</td>\n",
              "      <td>1143.000000</td>\n",
              "    </tr>\n",
              "    <tr>\n",
              "      <th>mean</th>\n",
              "      <td>8.311111</td>\n",
              "      <td>0.531339</td>\n",
              "      <td>0.268364</td>\n",
              "      <td>2.532152</td>\n",
              "      <td>0.086933</td>\n",
              "      <td>15.615486</td>\n",
              "      <td>45.914698</td>\n",
              "      <td>0.996730</td>\n",
              "      <td>3.311015</td>\n",
              "      <td>0.657708</td>\n",
              "      <td>10.442111</td>\n",
              "      <td>5.657043</td>\n",
              "      <td>804.969379</td>\n",
              "    </tr>\n",
              "    <tr>\n",
              "      <th>std</th>\n",
              "      <td>1.747595</td>\n",
              "      <td>0.179633</td>\n",
              "      <td>0.196686</td>\n",
              "      <td>1.355917</td>\n",
              "      <td>0.047267</td>\n",
              "      <td>10.250486</td>\n",
              "      <td>32.782130</td>\n",
              "      <td>0.001925</td>\n",
              "      <td>0.156664</td>\n",
              "      <td>0.170399</td>\n",
              "      <td>1.082196</td>\n",
              "      <td>0.805824</td>\n",
              "      <td>463.997116</td>\n",
              "    </tr>\n",
              "    <tr>\n",
              "      <th>min</th>\n",
              "      <td>4.600000</td>\n",
              "      <td>0.120000</td>\n",
              "      <td>0.000000</td>\n",
              "      <td>0.900000</td>\n",
              "      <td>0.012000</td>\n",
              "      <td>1.000000</td>\n",
              "      <td>6.000000</td>\n",
              "      <td>0.990070</td>\n",
              "      <td>2.740000</td>\n",
              "      <td>0.330000</td>\n",
              "      <td>8.400000</td>\n",
              "      <td>3.000000</td>\n",
              "      <td>0.000000</td>\n",
              "    </tr>\n",
              "    <tr>\n",
              "      <th>25%</th>\n",
              "      <td>7.100000</td>\n",
              "      <td>0.392500</td>\n",
              "      <td>0.090000</td>\n",
              "      <td>1.900000</td>\n",
              "      <td>0.070000</td>\n",
              "      <td>7.000000</td>\n",
              "      <td>21.000000</td>\n",
              "      <td>0.995570</td>\n",
              "      <td>3.205000</td>\n",
              "      <td>0.550000</td>\n",
              "      <td>9.500000</td>\n",
              "      <td>5.000000</td>\n",
              "      <td>411.000000</td>\n",
              "    </tr>\n",
              "    <tr>\n",
              "      <th>50%</th>\n",
              "      <td>7.900000</td>\n",
              "      <td>0.520000</td>\n",
              "      <td>0.250000</td>\n",
              "      <td>2.200000</td>\n",
              "      <td>0.079000</td>\n",
              "      <td>13.000000</td>\n",
              "      <td>37.000000</td>\n",
              "      <td>0.996680</td>\n",
              "      <td>3.310000</td>\n",
              "      <td>0.620000</td>\n",
              "      <td>10.200000</td>\n",
              "      <td>6.000000</td>\n",
              "      <td>794.000000</td>\n",
              "    </tr>\n",
              "    <tr>\n",
              "      <th>75%</th>\n",
              "      <td>9.100000</td>\n",
              "      <td>0.640000</td>\n",
              "      <td>0.420000</td>\n",
              "      <td>2.600000</td>\n",
              "      <td>0.090000</td>\n",
              "      <td>21.000000</td>\n",
              "      <td>61.000000</td>\n",
              "      <td>0.997845</td>\n",
              "      <td>3.400000</td>\n",
              "      <td>0.730000</td>\n",
              "      <td>11.100000</td>\n",
              "      <td>6.000000</td>\n",
              "      <td>1209.500000</td>\n",
              "    </tr>\n",
              "    <tr>\n",
              "      <th>max</th>\n",
              "      <td>15.900000</td>\n",
              "      <td>1.580000</td>\n",
              "      <td>1.000000</td>\n",
              "      <td>15.500000</td>\n",
              "      <td>0.611000</td>\n",
              "      <td>68.000000</td>\n",
              "      <td>289.000000</td>\n",
              "      <td>1.003690</td>\n",
              "      <td>4.010000</td>\n",
              "      <td>2.000000</td>\n",
              "      <td>14.900000</td>\n",
              "      <td>8.000000</td>\n",
              "      <td>1597.000000</td>\n",
              "    </tr>\n",
              "  </tbody>\n",
              "</table>\n",
              "</div>\n",
              "      <button class=\"colab-df-convert\" onclick=\"convertToInteractive('df-a24f9362-ae75-4301-b2c6-c893c4289513')\"\n",
              "              title=\"Convert this dataframe to an interactive table.\"\n",
              "              style=\"display:none;\">\n",
              "        \n",
              "  <svg xmlns=\"http://www.w3.org/2000/svg\" height=\"24px\"viewBox=\"0 0 24 24\"\n",
              "       width=\"24px\">\n",
              "    <path d=\"M0 0h24v24H0V0z\" fill=\"none\"/>\n",
              "    <path d=\"M18.56 5.44l.94 2.06.94-2.06 2.06-.94-2.06-.94-.94-2.06-.94 2.06-2.06.94zm-11 1L8.5 8.5l.94-2.06 2.06-.94-2.06-.94L8.5 2.5l-.94 2.06-2.06.94zm10 10l.94 2.06.94-2.06 2.06-.94-2.06-.94-.94-2.06-.94 2.06-2.06.94z\"/><path d=\"M17.41 7.96l-1.37-1.37c-.4-.4-.92-.59-1.43-.59-.52 0-1.04.2-1.43.59L10.3 9.45l-7.72 7.72c-.78.78-.78 2.05 0 2.83L4 21.41c.39.39.9.59 1.41.59.51 0 1.02-.2 1.41-.59l7.78-7.78 2.81-2.81c.8-.78.8-2.07 0-2.86zM5.41 20L4 18.59l7.72-7.72 1.47 1.35L5.41 20z\"/>\n",
              "  </svg>\n",
              "      </button>\n",
              "      \n",
              "  <style>\n",
              "    .colab-df-container {\n",
              "      display:flex;\n",
              "      flex-wrap:wrap;\n",
              "      gap: 12px;\n",
              "    }\n",
              "\n",
              "    .colab-df-convert {\n",
              "      background-color: #E8F0FE;\n",
              "      border: none;\n",
              "      border-radius: 50%;\n",
              "      cursor: pointer;\n",
              "      display: none;\n",
              "      fill: #1967D2;\n",
              "      height: 32px;\n",
              "      padding: 0 0 0 0;\n",
              "      width: 32px;\n",
              "    }\n",
              "\n",
              "    .colab-df-convert:hover {\n",
              "      background-color: #E2EBFA;\n",
              "      box-shadow: 0px 1px 2px rgba(60, 64, 67, 0.3), 0px 1px 3px 1px rgba(60, 64, 67, 0.15);\n",
              "      fill: #174EA6;\n",
              "    }\n",
              "\n",
              "    [theme=dark] .colab-df-convert {\n",
              "      background-color: #3B4455;\n",
              "      fill: #D2E3FC;\n",
              "    }\n",
              "\n",
              "    [theme=dark] .colab-df-convert:hover {\n",
              "      background-color: #434B5C;\n",
              "      box-shadow: 0px 1px 3px 1px rgba(0, 0, 0, 0.15);\n",
              "      filter: drop-shadow(0px 1px 2px rgba(0, 0, 0, 0.3));\n",
              "      fill: #FFFFFF;\n",
              "    }\n",
              "  </style>\n",
              "\n",
              "      <script>\n",
              "        const buttonEl =\n",
              "          document.querySelector('#df-a24f9362-ae75-4301-b2c6-c893c4289513 button.colab-df-convert');\n",
              "        buttonEl.style.display =\n",
              "          google.colab.kernel.accessAllowed ? 'block' : 'none';\n",
              "\n",
              "        async function convertToInteractive(key) {\n",
              "          const element = document.querySelector('#df-a24f9362-ae75-4301-b2c6-c893c4289513');\n",
              "          const dataTable =\n",
              "            await google.colab.kernel.invokeFunction('convertToInteractive',\n",
              "                                                     [key], {});\n",
              "          if (!dataTable) return;\n",
              "\n",
              "          const docLinkHtml = 'Like what you see? Visit the ' +\n",
              "            '<a target=\"_blank\" href=https://colab.research.google.com/notebooks/data_table.ipynb>data table notebook</a>'\n",
              "            + ' to learn more about interactive tables.';\n",
              "          element.innerHTML = '';\n",
              "          dataTable['output_type'] = 'display_data';\n",
              "          await google.colab.output.renderOutput(dataTable, element);\n",
              "          const docLink = document.createElement('div');\n",
              "          docLink.innerHTML = docLinkHtml;\n",
              "          element.appendChild(docLink);\n",
              "        }\n",
              "      </script>\n",
              "    </div>\n",
              "  </div>\n",
              "  "
            ],
            "text/plain": [
              "       fixed acidity  volatile acidity  ...      quality           Id\n",
              "count    1143.000000       1143.000000  ...  1143.000000  1143.000000\n",
              "mean        8.311111          0.531339  ...     5.657043   804.969379\n",
              "std         1.747595          0.179633  ...     0.805824   463.997116\n",
              "min         4.600000          0.120000  ...     3.000000     0.000000\n",
              "25%         7.100000          0.392500  ...     5.000000   411.000000\n",
              "50%         7.900000          0.520000  ...     6.000000   794.000000\n",
              "75%         9.100000          0.640000  ...     6.000000  1209.500000\n",
              "max        15.900000          1.580000  ...     8.000000  1597.000000\n",
              "\n",
              "[8 rows x 13 columns]"
            ]
          },
          "metadata": {},
          "execution_count": 7
        }
      ]
    },
    {
      "cell_type": "markdown",
      "source": [
        "Mostrar un mapa de calor que indique la correlación entre vriables"
      ],
      "metadata": {
        "id": "2h5cZd2sazJr"
      }
    },
    {
      "cell_type": "code",
      "source": [
        "sns.set()\n",
        "\n",
        "# para definir el tamaño de cada dato\n",
        "plt.figure(figsize=(16, 8))\n",
        "\n",
        "sns.heatmap(df.corr(),annot = True)"
      ],
      "metadata": {
        "colab": {
          "base_uri": "https://localhost:8080/",
          "height": 600
        },
        "id": "1gjtrxRoAB4h",
        "outputId": "0e572f42-d464-4e50-8e92-cc6ea71d3ed7"
      },
      "execution_count": null,
      "outputs": [
        {
          "output_type": "execute_result",
          "data": {
            "text/plain": [
              "<matplotlib.axes._subplots.AxesSubplot at 0x7ff23f7c7590>"
            ]
          },
          "metadata": {},
          "execution_count": 8
        },
        {
          "output_type": "display_data",
          "data": {
            "image/png": "[encoded data removed]",
            "text/plain": [
              "<Figure size 1152x576 with 2 Axes>"
            ]
          },
          "metadata": {}
        }
      ]
    },
    {
      "cell_type": "markdown",
      "source": [
        "Seleccionar las características a tener en cuenta en el estudio"
      ],
      "metadata": {
        "id": "1YSnM4poa4Az"
      }
    },
    {
      "cell_type": "code",
      "source": [
        "# campos : fixed acidity\t,citric acid,residual sugar , density\t, pH,sulphates,alcohol,\n",
        "# quality\n",
        "\n",
        "df_filtrado  = pd.DataFrame()\n",
        "df_filtrado = df[['fixed acidity', 'citric acid','residual sugar','density',\n",
        "                  'pH','sulphates','alcohol','quality']].copy()\n",
        "                  \n",
        "df_filtrado\n",
        "# df_filtrado.plot()"
      ],
      "metadata": {
        "colab": {
          "base_uri": "https://localhost:8080/",
          "height": 424
        },
        "id": "Tt31ctA5K9v9",
        "outputId": "067b0f7a-6a51-4527-8f96-261271c77e8e"
      },
      "execution_count": null,
      "outputs": [
        {
          "output_type": "execute_result",
          "data": {
            "text/html": [
              "\n",
              "  <div id=\"df-caafe3e7-9e01-4fbf-8d14-e43fb49864b9\">\n",
              "    <div class=\"colab-df-container\">\n",
              "      <div>\n",
              "<style scoped>\n",
              "    .dataframe tbody tr th:only-of-type {\n",
              "        vertical-align: middle;\n",
              "    }\n",
              "\n",
              "    .dataframe tbody tr th {\n",
              "        vertical-align: top;\n",
              "    }\n",
              "\n",
              "    .dataframe thead th {\n",
              "        text-align: right;\n",
              "    }\n",
              "</style>\n",
              "<table border=\"1\" class=\"dataframe\">\n",
              "  <thead>\n",
              "    <tr style=\"text-align: right;\">\n",
              "      <th></th>\n",
              "      <th>fixed acidity</th>\n",
              "      <th>citric acid</th>\n",
              "      <th>residual sugar</th>\n",
              "      <th>density</th>\n",
              "      <th>pH</th>\n",
              "      <th>sulphates</th>\n",
              "      <th>alcohol</th>\n",
              "      <th>quality</th>\n",
              "    </tr>\n",
              "  </thead>\n",
              "  <tbody>\n",
              "    <tr>\n",
              "      <th>0</th>\n",
              "      <td>7.4</td>\n",
              "      <td>0.00</td>\n",
              "      <td>1.9</td>\n",
              "      <td>0.99780</td>\n",
              "      <td>3.51</td>\n",
              "      <td>0.56</td>\n",
              "      <td>9.4</td>\n",
              "      <td>5</td>\n",
              "    </tr>\n",
              "    <tr>\n",
              "      <th>1</th>\n",
              "      <td>7.8</td>\n",
              "      <td>0.00</td>\n",
              "      <td>2.6</td>\n",
              "      <td>0.99680</td>\n",
              "      <td>3.20</td>\n",
              "      <td>0.68</td>\n",
              "      <td>9.8</td>\n",
              "      <td>5</td>\n",
              "    </tr>\n",
              "    <tr>\n",
              "      <th>2</th>\n",
              "      <td>7.8</td>\n",
              "      <td>0.04</td>\n",
              "      <td>2.3</td>\n",
              "      <td>0.99700</td>\n",
              "      <td>3.26</td>\n",
              "      <td>0.65</td>\n",
              "      <td>9.8</td>\n",
              "      <td>5</td>\n",
              "    </tr>\n",
              "    <tr>\n",
              "      <th>3</th>\n",
              "      <td>11.2</td>\n",
              "      <td>0.56</td>\n",
              "      <td>1.9</td>\n",
              "      <td>0.99800</td>\n",
              "      <td>3.16</td>\n",
              "      <td>0.58</td>\n",
              "      <td>9.8</td>\n",
              "      <td>6</td>\n",
              "    </tr>\n",
              "    <tr>\n",
              "      <th>4</th>\n",
              "      <td>7.4</td>\n",
              "      <td>0.00</td>\n",
              "      <td>1.9</td>\n",
              "      <td>0.99780</td>\n",
              "      <td>3.51</td>\n",
              "      <td>0.56</td>\n",
              "      <td>9.4</td>\n",
              "      <td>5</td>\n",
              "    </tr>\n",
              "    <tr>\n",
              "      <th>...</th>\n",
              "      <td>...</td>\n",
              "      <td>...</td>\n",
              "      <td>...</td>\n",
              "      <td>...</td>\n",
              "      <td>...</td>\n",
              "      <td>...</td>\n",
              "      <td>...</td>\n",
              "      <td>...</td>\n",
              "    </tr>\n",
              "    <tr>\n",
              "      <th>1138</th>\n",
              "      <td>6.3</td>\n",
              "      <td>0.13</td>\n",
              "      <td>2.3</td>\n",
              "      <td>0.99574</td>\n",
              "      <td>3.42</td>\n",
              "      <td>0.75</td>\n",
              "      <td>11.0</td>\n",
              "      <td>6</td>\n",
              "    </tr>\n",
              "    <tr>\n",
              "      <th>1139</th>\n",
              "      <td>6.8</td>\n",
              "      <td>0.08</td>\n",
              "      <td>1.9</td>\n",
              "      <td>0.99651</td>\n",
              "      <td>3.42</td>\n",
              "      <td>0.82</td>\n",
              "      <td>9.5</td>\n",
              "      <td>6</td>\n",
              "    </tr>\n",
              "    <tr>\n",
              "      <th>1140</th>\n",
              "      <td>6.2</td>\n",
              "      <td>0.08</td>\n",
              "      <td>2.0</td>\n",
              "      <td>0.99490</td>\n",
              "      <td>3.45</td>\n",
              "      <td>0.58</td>\n",
              "      <td>10.5</td>\n",
              "      <td>5</td>\n",
              "    </tr>\n",
              "    <tr>\n",
              "      <th>1141</th>\n",
              "      <td>5.9</td>\n",
              "      <td>0.10</td>\n",
              "      <td>2.2</td>\n",
              "      <td>0.99512</td>\n",
              "      <td>3.52</td>\n",
              "      <td>0.76</td>\n",
              "      <td>11.2</td>\n",
              "      <td>6</td>\n",
              "    </tr>\n",
              "    <tr>\n",
              "      <th>1142</th>\n",
              "      <td>5.9</td>\n",
              "      <td>0.12</td>\n",
              "      <td>2.0</td>\n",
              "      <td>0.99547</td>\n",
              "      <td>3.57</td>\n",
              "      <td>0.71</td>\n",
              "      <td>10.2</td>\n",
              "      <td>5</td>\n",
              "    </tr>\n",
              "  </tbody>\n",
              "</table>\n",
              "<p>1143 rows × 8 columns</p>\n",
              "</div>\n",
              "      <button class=\"colab-df-convert\" onclick=\"convertToInteractive('df-caafe3e7-9e01-4fbf-8d14-e43fb49864b9')\"\n",
              "              title=\"Convert this dataframe to an interactive table.\"\n",
              "              style=\"display:none;\">\n",
              "        \n",
              "  <svg xmlns=\"http://www.w3.org/2000/svg\" height=\"24px\"viewBox=\"0 0 24 24\"\n",
              "       width=\"24px\">\n",
              "    <path d=\"M0 0h24v24H0V0z\" fill=\"none\"/>\n",
              "    <path d=\"M18.56 5.44l.94 2.06.94-2.06 2.06-.94-2.06-.94-.94-2.06-.94 2.06-2.06.94zm-11 1L8.5 8.5l.94-2.06 2.06-.94-2.06-.94L8.5 2.5l-.94 2.06-2.06.94zm10 10l.94 2.06.94-2.06 2.06-.94-2.06-.94-.94-2.06-.94 2.06-2.06.94z\"/><path d=\"M17.41 7.96l-1.37-1.37c-.4-.4-.92-.59-1.43-.59-.52 0-1.04.2-1.43.59L10.3 9.45l-7.72 7.72c-.78.78-.78 2.05 0 2.83L4 21.41c.39.39.9.59 1.41.59.51 0 1.02-.2 1.41-.59l7.78-7.78 2.81-2.81c.8-.78.8-2.07 0-2.86zM5.41 20L4 18.59l7.72-7.72 1.47 1.35L5.41 20z\"/>\n",
              "  </svg>\n",
              "      </button>\n",
              "      \n",
              "  <style>\n",
              "    .colab-df-container {\n",
              "      display:flex;\n",
              "      flex-wrap:wrap;\n",
              "      gap: 12px;\n",
              "    }\n",
              "\n",
              "    .colab-df-convert {\n",
              "      background-color: #E8F0FE;\n",
              "      border: none;\n",
              "      border-radius: 50%;\n",
              "      cursor: pointer;\n",
              "      display: none;\n",
              "      fill: #1967D2;\n",
              "      height: 32px;\n",
              "      padding: 0 0 0 0;\n",
              "      width: 32px;\n",
              "    }\n",
              "\n",
              "    .colab-df-convert:hover {\n",
              "      background-color: #E2EBFA;\n",
              "      box-shadow: 0px 1px 2px rgba(60, 64, 67, 0.3), 0px 1px 3px 1px rgba(60, 64, 67, 0.15);\n",
              "      fill: #174EA6;\n",
              "    }\n",
              "\n",
              "    [theme=dark] .colab-df-convert {\n",
              "      background-color: #3B4455;\n",
              "      fill: #D2E3FC;\n",
              "    }\n",
              "\n",
              "    [theme=dark] .colab-df-convert:hover {\n",
              "      background-color: #434B5C;\n",
              "      box-shadow: 0px 1px 3px 1px rgba(0, 0, 0, 0.15);\n",
              "      filter: drop-shadow(0px 1px 2px rgba(0, 0, 0, 0.3));\n",
              "      fill: #FFFFFF;\n",
              "    }\n",
              "  </style>\n",
              "\n",
              "      <script>\n",
              "        const buttonEl =\n",
              "          document.querySelector('#df-caafe3e7-9e01-4fbf-8d14-e43fb49864b9 button.colab-df-convert');\n",
              "        buttonEl.style.display =\n",
              "          google.colab.kernel.accessAllowed ? 'block' : 'none';\n",
              "\n",
              "        async function convertToInteractive(key) {\n",
              "          const element = document.querySelector('#df-caafe3e7-9e01-4fbf-8d14-e43fb49864b9');\n",
              "          const dataTable =\n",
              "            await google.colab.kernel.invokeFunction('convertToInteractive',\n",
              "                                                     [key], {});\n",
              "          if (!dataTable) return;\n",
              "\n",
              "          const docLinkHtml = 'Like what you see? Visit the ' +\n",
              "            '<a target=\"_blank\" href=https://colab.research.google.com/notebooks/data_table.ipynb>data table notebook</a>'\n",
              "            + ' to learn more about interactive tables.';\n",
              "          element.innerHTML = '';\n",
              "          dataTable['output_type'] = 'display_data';\n",
              "          await google.colab.output.renderOutput(dataTable, element);\n",
              "          const docLink = document.createElement('div');\n",
              "          docLink.innerHTML = docLinkHtml;\n",
              "          element.appendChild(docLink);\n",
              "        }\n",
              "      </script>\n",
              "    </div>\n",
              "  </div>\n",
              "  "
            ],
            "text/plain": [
              "      fixed acidity  citric acid  residual sugar  ...  sulphates  alcohol  quality\n",
              "0               7.4         0.00             1.9  ...       0.56      9.4        5\n",
              "1               7.8         0.00             2.6  ...       0.68      9.8        5\n",
              "2               7.8         0.04             2.3  ...       0.65      9.8        5\n",
              "3              11.2         0.56             1.9  ...       0.58      9.8        6\n",
              "4               7.4         0.00             1.9  ...       0.56      9.4        5\n",
              "...             ...          ...             ...  ...        ...      ...      ...\n",
              "1138            6.3         0.13             2.3  ...       0.75     11.0        6\n",
              "1139            6.8         0.08             1.9  ...       0.82      9.5        6\n",
              "1140            6.2         0.08             2.0  ...       0.58     10.5        5\n",
              "1141            5.9         0.10             2.2  ...       0.76     11.2        6\n",
              "1142            5.9         0.12             2.0  ...       0.71     10.2        5\n",
              "\n",
              "[1143 rows x 8 columns]"
            ]
          },
          "metadata": {},
          "execution_count": 9
        }
      ]
    },
    {
      "cell_type": "markdown",
      "source": [
        "Separar datos entre datos de entrada y etiquetas (resultados)"
      ],
      "metadata": {
        "id": "_dbpzstWa-Hz"
      }
    },
    {
      "cell_type": "code",
      "source": [
        "x_wine = df_filtrado.drop('quality',axis = 1)\n",
        "y_wine = df_filtrado['quality']\n",
        "\n"
      ],
      "metadata": {
        "id": "YI4o8dpxN5-C"
      },
      "execution_count": null,
      "outputs": []
    },
    {
      "cell_type": "markdown",
      "source": [
        "Separar datos entre entrenamiento y prueba (usando un 75% para entrenamiento y 25% para test)"
      ],
      "metadata": {
        "id": "T98302tVbJ3L"
      }
    },
    {
      "cell_type": "code",
      "source": [
        "x_train,x_test,y_train,y_test = train_test_split(x_wine,y_wine,\n",
        "                                                 train_size = 0.75,\n",
        "                                                 test_size = 0.25\n",
        "                                                 )"
      ],
      "metadata": {
        "id": "Mvf5Q9L_bNNz"
      },
      "execution_count": null,
      "outputs": []
    },
    {
      "cell_type": "markdown",
      "source": [
        "**Entrenamiento y predicción**\n"
      ],
      "metadata": {
        "id": "w4LVqJTHbadz"
      }
    },
    {
      "cell_type": "markdown",
      "source": [
        "Elegir, instanciar y entrenar el modelo"
      ],
      "metadata": {
        "id": "gZXjgiB4bffL"
      }
    },
    {
      "cell_type": "code",
      "source": [
        "# con KNeighborsClassifier\n",
        "\n",
        "# parametros\n",
        "k = 3\n",
        "w = 'uniform'\n",
        "\n",
        "# elegimos clasificador\n",
        "\n",
        "# instanciamos el modelo\n",
        "model = KNeighborsClassifier(k,weights=w)\n",
        "\n",
        "# entrenamiento\n",
        "model.fit(x_train,y_train)"
      ],
      "metadata": {
        "colab": {
          "base_uri": "https://localhost:8080/"
        },
        "id": "PF9AG4jqQxYI",
        "outputId": "88cd7267-753c-4013-ce1c-79643a49c893"
      },
      "execution_count": null,
      "outputs": [
        {
          "output_type": "execute_result",
          "data": {
            "text/plain": [
              "KNeighborsClassifier(n_neighbors=3)"
            ]
          },
          "metadata": {},
          "execution_count": 12
        }
      ]
    },
    {
      "cell_type": "markdown",
      "source": [
        "Realizar una predicción con los datos de prueba"
      ],
      "metadata": {
        "id": "PE4cEuKabkNS"
      }
    },
    {
      "cell_type": "code",
      "source": [
        "# prediccion\n",
        "y_model = model.predict(x_test)"
      ],
      "metadata": {
        "id": "O-NljCM0boQT"
      },
      "execution_count": null,
      "outputs": []
    },
    {
      "cell_type": "markdown",
      "source": [
        "**Evaluación**"
      ],
      "metadata": {
        "id": "jJQkaYGabmHb"
      }
    },
    {
      "cell_type": "markdown",
      "source": [
        "Mostrar el porcentaje de elementos correctamente clasificados"
      ],
      "metadata": {
        "id": "MuX6efL-bud6"
      }
    },
    {
      "cell_type": "code",
      "source": [
        "# evaluacion\n",
        "\n",
        "# Mostrar el porcentaje de elementos correctamente clasificados\n",
        "accuracy_score(y_test,y_model)"
      ],
      "metadata": {
        "colab": {
          "base_uri": "https://localhost:8080/"
        },
        "id": "st5Pz2qZbqC6",
        "outputId": "16b34c6d-8909-4287-a909-ca2628e763cd"
      },
      "execution_count": null,
      "outputs": [
        {
          "output_type": "execute_result",
          "data": {
            "text/plain": [
              "0.527972027972028"
            ]
          },
          "metadata": {},
          "execution_count": 14
        }
      ]
    },
    {
      "cell_type": "markdown",
      "source": [
        "Mostrar la predicción realizada (imprimir la variable con la predicción)\n"
      ],
      "metadata": {
        "id": "LldRnUaobkDz"
      }
    },
    {
      "cell_type": "code",
      "source": [
        "y_model"
      ],
      "metadata": {
        "colab": {
          "base_uri": "https://localhost:8080/"
        },
        "id": "VWaBBd14goEJ",
        "outputId": "afd99bf8-9076-4400-c9e0-f461e1bf3c9a"
      },
      "execution_count": null,
      "outputs": [
        {
          "output_type": "execute_result",
          "data": {
            "text/plain": [
              "array([6, 6, 5, 6, 6, 5, 5, 6, 6, 7, 6, 5, 5, 7, 6, 6, 6, 5, 6, 6, 5, 5,\n",
              "       6, 5, 5, 5, 6, 6, 7, 5, 5, 5, 6, 5, 5, 5, 5, 6, 5, 5, 5, 5, 6, 6,\n",
              "       5, 6, 5, 6, 7, 7, 5, 6, 6, 6, 6, 5, 6, 5, 5, 6, 5, 6, 6, 5, 7, 7,\n",
              "       5, 6, 6, 5, 6, 5, 6, 6, 5, 7, 7, 5, 6, 6, 5, 5, 6, 5, 5, 7, 5, 7,\n",
              "       5, 6, 4, 6, 5, 5, 5, 5, 7, 5, 7, 5, 6, 5, 6, 5, 5, 5, 7, 5, 7, 5,\n",
              "       5, 6, 5, 6, 5, 5, 7, 6, 5, 6, 6, 5, 6, 6, 6, 5, 5, 5, 6, 7, 5, 5,\n",
              "       6, 6, 6, 5, 5, 5, 5, 6, 6, 5, 4, 7, 6, 5, 6, 6, 5, 5, 5, 5, 6, 7,\n",
              "       6, 6, 6, 6, 5, 6, 5, 6, 6, 5, 5, 5, 6, 5, 5, 6, 6, 7, 5, 6, 5, 5,\n",
              "       5, 6, 5, 6, 6, 5, 5, 6, 5, 6, 7, 6, 5, 4, 5, 5, 6, 6, 6, 6, 6, 7,\n",
              "       6, 4, 6, 5, 5, 7, 6, 6, 5, 6, 5, 6, 5, 5, 6, 5, 5, 5, 6, 5, 7, 5,\n",
              "       5, 6, 6, 6, 6, 4, 5, 5, 6, 7, 5, 6, 6, 5, 6, 5, 5, 5, 6, 5, 7, 7,\n",
              "       5, 5, 5, 5, 6, 7, 6, 5, 6, 6, 6, 6, 5, 6, 5, 6, 4, 7, 6, 7, 7, 6,\n",
              "       5, 6, 5, 6, 6, 5, 6, 6, 7, 6, 5, 5, 5, 6, 5, 6, 7, 6, 5, 6, 6, 7])"
            ]
          },
          "metadata": {},
          "execution_count": 15
        }
      ]
    },
    {
      "cell_type": "markdown",
      "source": [
        "Representar gráficamente la clasificación obtenida (matriz de confusión)\n"
      ],
      "metadata": {
        "id": "hgPh0Sq-b14y"
      }
    },
    {
      "cell_type": "code",
      "source": [
        "cm = confusion_matrix(y_test, y_model, labels=model.classes_)\n",
        "disp = ConfusionMatrixDisplay(confusion_matrix=cm,\n",
        "                              display_labels=model.classes_)\n",
        "disp.plot()\n",
        "\n",
        "plt.show()"
      ],
      "metadata": {
        "colab": {
          "base_uri": "https://localhost:8080/",
          "height": 285
        },
        "id": "MAXyDdg1ieu2",
        "outputId": "0c8dba85-d874-433f-e358-970363b491e4"
      },
      "execution_count": null,
      "outputs": [
        {
          "output_type": "display_data",
          "data": {
            "image/png": "[encoded data removed]",
            "text/plain": [
              "<Figure size 432x288 with 2 Axes>"
            ]
          },
          "metadata": {}
        }
      ]
    },
    {
      "cell_type": "markdown",
      "source": [
        "**Optimización (probar el proceso con distintos clasificadores)**\n"
      ],
      "metadata": {
        "id": "DzbEFw7Qb6oI"
      }
    },
    {
      "cell_type": "markdown",
      "source": [
        "**METODO DE RadiusNeighborsClassifier**"
      ],
      "metadata": {
        "id": "GEq7HrHPrDbe"
      }
    },
    {
      "cell_type": "code",
      "source": [
        "# instanciamos el modelo\n",
        "model = RadiusNeighborsClassifier(radius = 2)\n",
        "\n",
        "\n",
        "# entrenamiento\n",
        "model.fit(x_train,y_train)\n",
        "\n",
        "# prediccion\n",
        "y_model = model.predict(x_test)\n",
        "\n",
        "# predict_proba([[1.0]]))\n",
        "\n",
        "\n",
        "# evaluacion\n",
        "# Mostrar el porcentaje de elementos correctamente clasificados\n",
        "accuracy_score(y_test,y_model)"
      ],
      "metadata": {
        "colab": {
          "base_uri": "https://localhost:8080/"
        },
        "id": "17uspQTaoiIa",
        "outputId": "104d2a63-91cb-4bef-ccf9-efa54c81ec87"
      },
      "execution_count": null,
      "outputs": [
        {
          "output_type": "execute_result",
          "data": {
            "text/plain": [
              "0.5104895104895105"
            ]
          },
          "metadata": {},
          "execution_count": 17
        }
      ]
    },
    {
      "cell_type": "code",
      "source": [
        "# Mostrar la predicción realizada (imprimir la variable con la predicción)\n",
        "y_model"
      ],
      "metadata": {
        "colab": {
          "base_uri": "https://localhost:8080/"
        },
        "id": "w_ODJ34krPBG",
        "outputId": "6040ff2c-fa9e-41ee-d171-2eeba829ca16"
      },
      "execution_count": null,
      "outputs": [
        {
          "output_type": "execute_result",
          "data": {
            "text/plain": [
              "array([5, 6, 5, 5, 5, 5, 6, 5, 5, 6, 5, 5, 6, 6, 6, 5, 6, 5, 6, 5, 6, 5,\n",
              "       5, 5, 5, 5, 6, 6, 6, 5, 5, 5, 6, 5, 5, 5, 5, 5, 5, 5, 5, 5, 5, 6,\n",
              "       5, 6, 5, 5, 7, 6, 5, 6, 6, 5, 5, 5, 6, 5, 5, 6, 5, 6, 5, 5, 6, 6,\n",
              "       5, 5, 6, 5, 6, 5, 5, 6, 5, 6, 6, 5, 6, 6, 5, 6, 5, 6, 6, 5, 5, 6,\n",
              "       5, 5, 5, 6, 5, 5, 5, 5, 6, 6, 7, 5, 6, 6, 6, 6, 5, 6, 5, 5, 7, 5,\n",
              "       6, 5, 5, 6, 5, 5, 5, 6, 6, 5, 5, 5, 6, 5, 5, 5, 5, 5, 5, 6, 6, 5,\n",
              "       5, 5, 5, 5, 5, 5, 5, 5, 6, 5, 5, 6, 5, 5, 5, 6, 5, 5, 5, 5, 6, 6,\n",
              "       6, 6, 5, 5, 5, 5, 5, 5, 5, 6, 5, 5, 6, 5, 5, 6, 5, 6, 5, 5, 5, 5,\n",
              "       6, 6, 5, 5, 5, 5, 5, 6, 5, 5, 6, 6, 5, 6, 6, 5, 5, 6, 6, 6, 6, 6,\n",
              "       6, 5, 6, 5, 5, 7, 5, 6, 6, 5, 5, 6, 6, 5, 5, 5, 5, 5, 6, 5, 7, 5,\n",
              "       6, 5, 5, 5, 5, 5, 5, 5, 6, 7, 5, 6, 6, 5, 5, 5, 5, 5, 5, 5, 5, 6,\n",
              "       6, 5, 6, 5, 6, 7, 5, 5, 6, 6, 6, 6, 5, 6, 6, 6, 6, 5, 5, 6, 7, 5,\n",
              "       5, 6, 5, 5, 5, 6, 6, 5, 6, 6, 6, 5, 5, 5, 5, 6, 6, 6, 5, 6, 6, 6])"
            ]
          },
          "metadata": {},
          "execution_count": 18
        }
      ]
    },
    {
      "cell_type": "code",
      "source": [
        "# Representar gráficamente la clasificación obtenida (matriz de confusión)\n",
        "cm = confusion_matrix(y_test, y_model, labels=model.classes_)\n",
        "disp = ConfusionMatrixDisplay(confusion_matrix=cm,\n",
        "                              display_labels=model.classes_)\n",
        "disp.plot()\n",
        "\n",
        "plt.show()\n"
      ],
      "metadata": {
        "colab": {
          "base_uri": "https://localhost:8080/",
          "height": 289
        },
        "id": "fmT-oPEYrS5W",
        "outputId": "9d83cf85-fed8-4159-cafe-7b5a1b8d45be"
      },
      "execution_count": null,
      "outputs": [
        {
          "output_type": "display_data",
          "data": {
            "image/png": "[encoded data removed]",
            "text/plain": [
              "<Figure size 432x288 with 2 Axes>"
            ]
          },
          "metadata": {}
        }
      ]
    },
    {
      "cell_type": "markdown",
      "source": [
        "con KNeighborsClassifier se obtiene un 55% mientras que con RadiusNeighborsClassifier se obtiene un 52%. Respectivamente, en las matrices de confusion vemos una gran diferencia, mientras que en el primero el valor max es 82, en el otro el valor max es 106, y con el min, seria de 64 y 41."
      ],
      "metadata": {
        "id": "Icjye2VZceFy"
      }
    },
    {
      "cell_type": "markdown",
      "source": [
        "**Optimización de hiperparámetros**"
      ],
      "metadata": {
        "id": "PlVmnE8DPc6M"
      }
    },
    {
      "cell_type": "markdown",
      "source": [
        "Calcula la combinación de parámetros óptima (uniform o distance; valor de k). Para ello\n",
        "realiza ejecuciones con cada uno de los valores uniform y distance para los valores de k\n",
        "desde 1 a 30."
      ],
      "metadata": {
        "id": "ZFX28UgKPiYa"
      }
    },
    {
      "cell_type": "code",
      "source": [
        "from pandas.core.dtypes.inference import is_file_like\n",
        "# con KNeighborsClassifier\n",
        "\n",
        "# parametros\n",
        "# k = 3\n",
        "# w = 'uniform'\n",
        "\n",
        "valores_w = ['uniform','distance']\n",
        "porcentajes = []\n",
        "k_max = 0\n",
        "w_max = \"\"\n",
        "\n",
        "for w in valores_w:\n",
        "  for k in range(1,31):\n",
        "    # instanciamos el modelo\n",
        "    model = KNeighborsClassifier(k,weights=w)\n",
        "\n",
        "    # entrenamiento\n",
        "    model.fit(x_train,y_train)\n",
        "\n",
        "    # Mostrar la predicción realizada (imprimir la variable con la predicción)\n",
        "    # y_model\n",
        "    # print(y_model)\n",
        "\n",
        "    y_model = model.predict(x_test)\n",
        "\n",
        "    porcentajes.append(accuracy_score(y_test,y_model))\n",
        "\n",
        "    if max(porcentajes) == accuracy_score(y_test,y_model):\n",
        "      k_max = k\n",
        "      w_max = w\n",
        "\n",
        "\n",
        "    print(f\"El porcentaje: {accuracy_score(y_test,y_model)} con k como: {k} y con w como: {w}\")\n",
        "  \n"
      ],
      "metadata": {
        "colab": {
          "base_uri": "https://localhost:8080/"
        },
        "outputId": "bf9160a1-3124-45ea-a890-0cb3a929c375",
        "id": "JtM6Szl5PqKx"
      },
      "execution_count": null,
      "outputs": [
        {
          "output_type": "stream",
          "name": "stdout",
          "text": [
            "El porcentaje: 0.5734265734265734 con k como: 1 y con w como: uniform\n",
            "El porcentaje: 0.5664335664335665 con k como: 2 y con w como: uniform\n",
            "El porcentaje: 0.527972027972028 con k como: 3 y con w como: uniform\n",
            "El porcentaje: 0.5454545454545454 con k como: 4 y con w como: uniform\n",
            "El porcentaje: 0.513986013986014 con k como: 5 y con w como: uniform\n",
            "El porcentaje: 0.5209790209790209 con k como: 6 y con w como: uniform\n",
            "El porcentaje: 0.541958041958042 con k como: 7 y con w como: uniform\n",
            "El porcentaje: 0.5174825174825175 con k como: 8 y con w como: uniform\n",
            "El porcentaje: 0.5104895104895105 con k como: 9 y con w como: uniform\n",
            "El porcentaje: 0.5209790209790209 con k como: 10 y con w como: uniform\n",
            "El porcentaje: 0.534965034965035 con k como: 11 y con w como: uniform\n",
            "El porcentaje: 0.541958041958042 con k como: 12 y con w como: uniform\n",
            "El porcentaje: 0.5524475524475524 con k como: 13 y con w como: uniform\n",
            "El porcentaje: 0.541958041958042 con k como: 14 y con w como: uniform\n",
            "El porcentaje: 0.5524475524475524 con k como: 15 y con w como: uniform\n",
            "El porcentaje: 0.5594405594405595 con k como: 16 y con w como: uniform\n",
            "El porcentaje: 0.5734265734265734 con k como: 17 y con w como: uniform\n",
            "El porcentaje: 0.5559440559440559 con k como: 18 y con w como: uniform\n",
            "El porcentaje: 0.5454545454545454 con k como: 19 y con w como: uniform\n",
            "El porcentaje: 0.541958041958042 con k como: 20 y con w como: uniform\n",
            "El porcentaje: 0.5699300699300699 con k como: 21 y con w como: uniform\n",
            "El porcentaje: 0.583916083916084 con k como: 22 y con w como: uniform\n",
            "El porcentaje: 0.5699300699300699 con k como: 23 y con w como: uniform\n",
            "El porcentaje: 0.5769230769230769 con k como: 24 y con w como: uniform\n",
            "El porcentaje: 0.548951048951049 con k como: 25 y con w como: uniform\n",
            "El porcentaje: 0.548951048951049 con k como: 26 y con w como: uniform\n",
            "El porcentaje: 0.548951048951049 con k como: 27 y con w como: uniform\n",
            "El porcentaje: 0.5454545454545454 con k como: 28 y con w como: uniform\n",
            "El porcentaje: 0.541958041958042 con k como: 29 y con w como: uniform\n",
            "El porcentaje: 0.548951048951049 con k como: 30 y con w como: uniform\n",
            "El porcentaje: 0.5734265734265734 con k como: 1 y con w como: distance\n",
            "El porcentaje: 0.5734265734265734 con k como: 2 y con w como: distance\n",
            "El porcentaje: 0.583916083916084 con k como: 3 y con w como: distance\n",
            "El porcentaje: 0.5769230769230769 con k como: 4 y con w como: distance\n",
            "El porcentaje: 0.583916083916084 con k como: 5 y con w como: distance\n",
            "El porcentaje: 0.5979020979020979 con k como: 6 y con w como: distance\n",
            "El porcentaje: 0.6118881118881119 con k como: 7 y con w como: distance\n",
            "El porcentaje: 0.5979020979020979 con k como: 8 y con w como: distance\n",
            "El porcentaje: 0.6118881118881119 con k como: 9 y con w como: distance\n",
            "El porcentaje: 0.6153846153846154 con k como: 10 y con w como: distance\n",
            "El porcentaje: 0.6118881118881119 con k como: 11 y con w como: distance\n",
            "El porcentaje: 0.6153846153846154 con k como: 12 y con w como: distance\n",
            "El porcentaje: 0.6258741258741258 con k como: 13 y con w como: distance\n",
            "El porcentaje: 0.6188811188811189 con k como: 14 y con w como: distance\n",
            "El porcentaje: 0.6258741258741258 con k como: 15 y con w como: distance\n",
            "El porcentaje: 0.6223776223776224 con k como: 16 y con w como: distance\n",
            "El porcentaje: 0.6363636363636364 con k como: 17 y con w como: distance\n",
            "El porcentaje: 0.6293706293706294 con k como: 18 y con w como: distance\n",
            "El porcentaje: 0.6293706293706294 con k como: 19 y con w como: distance\n",
            "El porcentaje: 0.6293706293706294 con k como: 20 y con w como: distance\n",
            "El porcentaje: 0.6328671328671329 con k como: 21 y con w como: distance\n",
            "El porcentaje: 0.6363636363636364 con k como: 22 y con w como: distance\n",
            "El porcentaje: 0.6433566433566433 con k como: 23 y con w como: distance\n",
            "El porcentaje: 0.6433566433566433 con k como: 24 y con w como: distance\n",
            "El porcentaje: 0.6363636363636364 con k como: 25 y con w como: distance\n",
            "El porcentaje: 0.6398601398601399 con k como: 26 y con w como: distance\n",
            "El porcentaje: 0.6363636363636364 con k como: 27 y con w como: distance\n",
            "El porcentaje: 0.6328671328671329 con k como: 28 y con w como: distance\n",
            "El porcentaje: 0.6363636363636364 con k como: 29 y con w como: distance\n",
            "El porcentaje: 0.6293706293706294 con k como: 30 y con w como: distance\n"
          ]
        }
      ]
    },
    {
      "cell_type": "code",
      "source": [
        "print(f\"El valor max de porcentaje es:{max(porcentajes)}, con k={k_max}, y w={w_max}\")"
      ],
      "metadata": {
        "colab": {
          "base_uri": "https://localhost:8080/"
        },
        "id": "IjkzYJCFTyg6",
        "outputId": "ad6bfa90-15b9-4b9e-d7ed-e3e075dc38d1"
      },
      "execution_count": null,
      "outputs": [
        {
          "output_type": "stream",
          "name": "stdout",
          "text": [
            "El valor max de porcentaje es:0.6433566433566433, con k=24, y w=distance\n"
          ]
        }
      ]
    },
    {
      "cell_type": "markdown",
      "source": [
        "Cada ejecución anterior se deberá hacer usando validación cruzada (por ejemplo n_splits =\n",
        "5). Con ello obtendremos una medida de bondad del modelo (accuracy_score o\n",
        "mean_absolute_error)), como lo ejecutaremos 5 veces, calcularemos la media de esas 5\n",
        "ejecuciones.\n"
      ],
      "metadata": {
        "id": "UVY_5j8hT-RM"
      }
    },
    {
      "cell_type": "code",
      "source": [
        "kf = KFold(n_splits=5)\n",
        " \n",
        "# parametros\n",
        "k = k_max\n",
        "w = w_max\n",
        "\n",
        "# elegimos clasificador\n",
        "\n",
        "# instanciamos el modelo\n",
        "model = KNeighborsClassifier(k,weights=w)\n",
        "\n",
        "# entrenamiento\n",
        "model.fit(x_train,y_train)\n",
        " \n",
        "score = model.score(x_train,y_train)\n",
        " \n",
        "print(\"Metrica del modelo\", score)\n",
        " \n",
        "scores = cross_val_score(model, x_train, y_train, cv=kf, scoring=\"accuracy\")\n",
        " \n",
        "print(\"Metricas cross_validation\", scores)\n",
        " \n",
        "print(\"Media de cross_validation\", scores.mean())\n",
        " \n",
        "preds = model.predict(x_test)\n",
        " \n",
        "score_pred = metrics.accuracy_score(y_test, preds)\n",
        "\n",
        "print(\"Metrica en Test\", score_pred)\n"
      ],
      "metadata": {
        "colab": {
          "base_uri": "https://localhost:8080/"
        },
        "id": "Bmp-d9UYVjX-",
        "outputId": "92168522-b80c-49d5-df43-3d34feaa53ae"
      },
      "execution_count": null,
      "outputs": [
        {
          "output_type": "stream",
          "name": "stdout",
          "text": [
            "Metrica del modelo 1.0\n",
            "Metricas cross_validation [0.6744186  0.62790698 0.58479532 0.60818713 0.63157895]\n",
            "Media de cross_validation 0.6253773969808242\n",
            "Metrica en Test 0.6433566433566433\n"
          ]
        }
      ]
    },
    {
      "cell_type": "code",
      "source": [
        "# evaluacion\n",
        "# Mostrar el porcentaje de elementos correctamente clasificados\n",
        "accuracy_score(y_test,y_model)"
      ],
      "metadata": {
        "colab": {
          "base_uri": "https://localhost:8080/"
        },
        "id": "SQKKt6wyZ2bX",
        "outputId": "10bb97df-0d3f-47c2-f444-5a0580b94b4f"
      },
      "execution_count": null,
      "outputs": [
        {
          "output_type": "execute_result",
          "data": {
            "text/plain": [
              "0.6293706293706294"
            ]
          },
          "metadata": {},
          "execution_count": 36
        }
      ]
    },
    {
      "cell_type": "code",
      "source": [
        "# Mostrar la predicción realizada (imprimir la variable con la predicción)\n",
        "y_model"
      ],
      "metadata": {
        "id": "cEoBrSPFZ5Mm"
      },
      "execution_count": null,
      "outputs": []
    },
    {
      "cell_type": "code",
      "source": [
        "cm = confusion_matrix(y_test, y_model, labels=model.classes_)\n",
        "disp = ConfusionMatrixDisplay(confusion_matrix=cm,\n",
        "                              display_labels=model.classes_)\n",
        "disp.plot()\n",
        "\n",
        "plt.show()"
      ],
      "metadata": {
        "colab": {
          "base_uri": "https://localhost:8080/",
          "height": 285
        },
        "id": "jQ3F6G7VZ7Hf",
        "outputId": "d0d4d529-d4ef-405c-db41-eaabf73a05ad"
      },
      "execution_count": null,
      "outputs": [
        {
          "output_type": "display_data",
          "data": {
            "image/png": "[encoded data removed]",
            "text/plain": [
              "<Figure size 432x288 with 2 Axes>"
            ]
          },
          "metadata": {}
        }
      ]
    }
  ]
}